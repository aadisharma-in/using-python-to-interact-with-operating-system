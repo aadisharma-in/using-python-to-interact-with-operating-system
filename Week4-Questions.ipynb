{
 "cells": [
  {
   "cell_type": "markdown",
   "id": "d9fcd909-6051-4c72-85d6-3a71b5e28968",
   "metadata": {},
   "source": [
    "##### We're using the same syslog, adnd we want to display the data, time and process id that's inside the square brackets. we can read each line of the stslog and pass the contents to show_time_of_pid function.\n",
    "##### The result should be return in this format: Jul 6 14:01:23 pid:29440"
   ]
  },
  {
   "cell_type": "code",
   "execution_count": null,
   "id": "dcdb363e-ab92-42dc-abc5-a6fa140200fd",
   "metadata": {},
   "outputs": [],
   "source": [
    "import re\n",
    "def show_time_of_pid(line):\n",
    "  pattern = ___\n",
    "  result = re.search(pattern, line)\n",
    "  return ___\n",
    "\n",
    "print(show_time_of_pid(\"Jul 6 14:01:23 computer.name CRON[29440]: USER (good_user)\")) # Jul 6 14:01:23 pid:29440\n",
    "\n",
    "print(show_time_of_pid(\"Jul 6 14:02:08 computer.name jam_tag=psim[29187]: (UUID:006)\")) # Jul 6 14:02:08 pid:29187\n",
    "\n",
    "print(show_time_of_pid(\"Jul 6 14:02:09 computer.name jam_tag=psim[29187]: (UUID:007)\")) # Jul 6 14:02:09 pid:29187\n",
    "\n",
    "print(show_time_of_pid(\"Jul 6 14:03:01 computer.name CRON[29440]: USER (naughty_user)\")) # Jul 6 14:03:01 pid:29440\n",
    "\n",
    "print(show_time_of_pid(\"Jul 6 14:03:40 computer.name cacheclient[29807]: start syncing from \\\"0xDEADBEEF\\\"\")) # Jul 6 14:03:40 pid:29807\n",
    "\n",
    "print(show_time_of_pid(\"Jul 6 14:04:01 computer.name CRON[29440]: USER (naughty_user)\")) # Jul 6 14:04:01 pid:29440\n",
    "\n",
    "print(show_time_of_pid(\"Jul 6 14:05:01 computer.name CRON[29440]: USER (naughty_user)\")) # Jul 6 14:05:01 pid:29440"
   ]
  }
 ],
 "metadata": {
  "kernelspec": {
   "display_name": "Python 3 (ipykernel)",
   "language": "python",
   "name": "python3"
  },
  "language_info": {
   "codemirror_mode": {
    "name": "ipython",
    "version": 3
   },
   "file_extension": ".py",
   "mimetype": "text/x-python",
   "name": "python",
   "nbconvert_exporter": "python",
   "pygments_lexer": "ipython3",
   "version": "3.11.2"
  }
 },
 "nbformat": 4,
 "nbformat_minor": 5
}
