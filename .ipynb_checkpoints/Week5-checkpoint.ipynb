{
 "cells": [
  {
   "cell_type": "markdown",
   "id": "e050f3ef-ff70-4c9a-8453-5c42ec8a2a7b",
   "metadata": {
    "editable": false,
    "slideshow": {
     "slide_type": ""
    },
    "tags": []
   },
   "source": [
    "# Testing in Python\n",
    "#### Software testing\n",
    "##### The process of evaluating computer code to determine whether or not it dows what you expect it to do.\n",
    "## `#Test can make good code great`\n",
    "### Test types:\n",
    "- Automated testing\n",
    "- unit test\n",
    "- integration test\n",
    "- test-driven development"
   ]
  },
  {
   "cell_type": "markdown",
   "id": "03da540e-6e78-4f1c-8e96-269a2002e35c",
   "metadata": {
    "editable": false,
    "slideshow": {
     "slide_type": "Type"
    },
    "tags": []
   },
   "source": [
    "### Unit Tests\n",
    "#### Used to verify that small, isolated parts of a program are correct\n",
    "#### An important characterstic of a unit test is `Isolation`."
   ]
  },
  {
   "cell_type": "code",
   "execution_count": 1,
   "id": "5bdbaaab-b46d-44b1-a4de-b8ac06b1f001",
   "metadata": {
    "editable": true,
    "slideshow": {
     "slide_type": ""
    },
    "tags": []
   },
   "outputs": [],
   "source": [
    "#!usr/bin/env python3\n",
    "\n",
    "# rearrange.py\n",
    "import re\n",
    "\n",
    "def rearrange_name(name):\n",
    "    result = re.search(r\"^([\\w .]*), ([\\w .]*)$\", name)\n",
    "    return \"{} {}\".format(result[2], result[1])"
   ]
  },
  {
   "cell_type": "code",
   "execution_count": 1,
   "id": "c5b1f4a2-eacd-4c2b-8e0d-bd2b13105e4f",
   "metadata": {
    "editable": true,
    "slideshow": {
     "slide_type": ""
    },
    "tags": []
   },
   "outputs": [],
   "source": [
    "# !usr/bin/env python3\n",
    "\n",
    "# rearrange_test.py\n",
    "# from rearrange import rearrange_name\n",
    "import unittest\n",
    "\n",
    "class TestRearrange(unittest.TestCase):\n",
    "    def test_basic(self):\n",
    "        testcase = 'Lovelace, Ada'\n",
    "        expected = 'Ada Lovelace'\n",
    "        self.assetEqual(rearrange_name(testcase), expected) # assetEqual\n",
    "\n",
    "unittest.main()\n",
    "\n",
    "# -\n",
    "# -------------------------------------------------------------------------------\n",
    "# Ran 1 test in 0.000s\n",
    "\n",
    "# OK"
   ]
  },
  {
   "cell_type": "code",
   "execution_count": null,
   "id": "a47b3dbe-89dc-4a98-aac1-b9af8290aa47",
   "metadata": {
    "editable": true,
    "slideshow": {
     "slide_type": ""
    },
    "tags": [
     "unittest"
    ]
   },
   "outputs": [],
   "source": []
  }
 ],
 "metadata": {
  "kernelspec": {
   "display_name": "Python 3 (ipykernel)",
   "language": "python",
   "name": "python3"
  },
  "language_info": {
   "codemirror_mode": {
    "name": "ipython",
    "version": 3
   },
   "file_extension": ".py",
   "mimetype": "text/x-python",
   "name": "python",
   "nbconvert_exporter": "python",
   "pygments_lexer": "ipython3",
   "version": "3.11.2"
  }
 },
 "nbformat": 4,
 "nbformat_minor": 5
}
