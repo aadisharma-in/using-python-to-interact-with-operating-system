{
 "cells": [
  {
   "cell_type": "markdown",
   "id": "615c00c4-ecb0-440d-86d4-e2271f605f74",
   "metadata": {},
   "source": [
    "<div style=\"display: flex\">\n",
    "    <div>\n",
    "        <h3 style=\"font-weight: 700\">Standard Streams</h3>\n",
    "        <h4>I/O streams</h4>\n",
    "        <h4 style=\"font-weight: 200\">The basic mechanism for performing input and output operations in your programs</h4>\n",
    "    </div>\n",
    "    <img style=\"width: 700px\" src=\"http://localhost:8000/static/week4-1.png\">\n",
    "</div>"
   ]
  },
  {
   "cell_type": "markdown",
   "id": "187ac7fb-12ce-47d8-b582-1ca7251ab1c3",
   "metadata": {},
   "source": [
    "<div style=\"display: flex\">\n",
    "    <div>\n",
    "        <h3>Shell</h3>\n",
    "        <h4 style=\"font-weight: 300\">A command-line interface used to interact with your operating system</h4>\n",
    "    </div>\n",
    "</div>"
   ]
  },
  {
   "cell_type": "markdown",
   "id": "e63d0be0-c257-4749-9ab5-5d6af263fe0f",
   "metadata": {},
   "source": [
    "- Python programs get executed inside a shell command-line environment.\n",
    "- The variables set in that environment are another source of information that we can use in our scripts."
   ]
  },
  {
   "cell_type": "code",
   "execution_count": 1,
   "id": "387c31dd-439e-41fc-a7fa-7ba0f9835ebb",
   "metadata": {},
   "outputs": [
    {
     "name": "stderr",
     "output_type": "stream",
     "text": [
      "'env' is not recognized as an internal or external command,\n",
      "operable program or batch file.\n"
     ]
    },
    {
     "name": "stdout",
     "output_type": "stream",
     "text": [
      "$PATH # For linux to print ENV_VARIABLE_VALUE\n"
     ]
    }
   ],
   "source": [
    "!env # For linux to print ENVIRONMENT_VARIABLES # eg: PATH\n",
    "!echo $PATH # For linux to print ENV_VARIABLE_VALUE"
   ]
  },
  {
   "cell_type": "code",
   "execution_count": 2,
   "id": "aad87050-36be-44fd-9d32-2c2a7cdc2ecd",
   "metadata": {},
   "outputs": [
    {
     "name": "stderr",
     "output_type": "stream",
     "text": [
      "'export' is not recognized as an internal or external command,\n",
      "operable program or batch file.\n"
     ]
    }
   ],
   "source": [
    "# For Python\n",
    "import os\n",
    "os.environ.get(\"HOME\", \"\")\n",
    "# VARIALE_NAME---^      ^-- if not available use this\n",
    "#For Linux\n",
    "!export FRUIT=Pineapple"
   ]
  },
  {
   "cell_type": "markdown",
   "id": "aff9dc5c-89eb-4ded-9ea6-7ce6a3311f12",
   "metadata": {},
   "source": [
    "---\n",
    "#### Command-Line Arguments and Exit Status\n",
    "\n",
    "> ##### Command-Line Arguments: - Parameters that are passed to a program when it's started"
   ]
  },
  {
   "cell_type": "code",
   "execution_count": 3,
   "id": "442670df-a7e8-46ab-82ec-018e96489d7e",
   "metadata": {},
   "outputs": [
    {
     "name": "stdout",
     "output_type": "stream",
     "text": [
      "['C:\\\\Users\\\\Aditya Sharma\\\\AppData\\\\Local\\\\Programs\\\\Python\\\\Python311\\\\Lib\\\\site-packages\\\\ipykernel_launcher.py', '-f', 'C:\\\\Users\\\\Aditya Sharma\\\\AppData\\\\Roaming\\\\jupyter\\\\runtime\\\\kernel-9aadfb5c-d85e-4681-b71b-144960228a84.json']\n"
     ]
    }
   ],
   "source": [
    "#!/usr/bin/env python3\n",
    "import sys\n",
    "print(sys.argv)\n",
    "\n",
    "# Example\n",
    "# ./parameters.py one two three\n",
    "#['./parameters.py', 'one', 'two', 'three']"
   ]
  },
  {
   "cell_type": "markdown",
   "id": "c83dd064-a955-495f-91f4-8c1db8e8fccc",
   "metadata": {},
   "source": [
    "#### Exit Status:\n",
    "- The value returned by the program to the shell"
   ]
  },
  {
   "cell_type": "code",
   "execution_count": 4,
   "id": "ec045ec4-c1cf-4bc3-ada1-61010d53ce95",
   "metadata": {},
   "outputs": [
    {
     "name": "stderr",
     "output_type": "stream",
     "text": [
      "'wc' is not recognized as an internal or external command,\n",
      "operable program or batch file.\n"
     ]
    },
    {
     "name": "stdout",
     "output_type": "stream",
     "text": [
      "$? # In linux it gives the shell return value\n"
     ]
    },
    {
     "name": "stderr",
     "output_type": "stream",
     "text": [
      "'wc' is not recognized as an internal or external command,\n",
      "operable program or batch file.\n"
     ]
    },
    {
     "name": "stdout",
     "output_type": "stream",
     "text": [
      "$?\n"
     ]
    }
   ],
   "source": [
    "!wc variables.py # In linux it counts the no of words of a python file\n",
    "# 7 19 174 variables.py\n",
    "!echo $? # In linux it gives the shell return value\n",
    "# 0\n",
    "\n",
    "!wc notpresent.py\n",
    "#wc: notpreent.py No such file or directory\n",
    "!echo $?\n",
    "# 1"
   ]
  },
  {
   "cell_type": "code",
   "execution_count": 5,
   "id": "cad6302e-8f33-4a96-89ee-2fd53fb6a376",
   "metadata": {},
   "outputs": [
    {
     "name": "stderr",
     "output_type": "stream",
     "text": [
      "\n",
      "KeyboardInterrupt\n",
      "\n"
     ]
    }
   ],
   "source": [
    "#!/usr/bin/env python3\n",
    "\n",
    "import os\n",
    "import sys\n",
    "\n",
    "filename=sys.args[1]\n",
    "\n",
    "if not os.path.exists(filename):\n",
    "    with open(filename, \"w\") as f:\n",
    "        f.write(\"New file created \\n\")\n",
    "else:\n",
    "    print(\"Error, the file {} already exists!\".format(filename))\n",
    "    sys.exit(1) # This is the system exit code as 1"
   ]
  },
  {
   "cell_type": "markdown",
   "id": "79928c89-6ea9-4eba-b19d-de54ad5c6455",
   "metadata": {},
   "source": [
    "### Running system commands in python"
   ]
  },
  {
   "cell_type": "code",
   "execution_count": null,
   "id": "9369fc36-8e02-4fd6-b867-3417180b53d4",
   "metadata": {
    "scrolled": true
   },
   "outputs": [],
   "source": [
    "import subprocess\n",
    "subprocess.run([\"date\"])"
   ]
  },
  {
   "cell_type": "code",
   "execution_count": null,
   "id": "63b7c16e-4b08-424f-86cb-b4a4ca553066",
   "metadata": {},
   "outputs": [],
   "source": [
    "subprocess.run([\"sleep\", \"2\"])"
   ]
  },
  {
   "cell_type": "code",
   "execution_count": null,
   "id": "10d6aa80-6e4e-4715-ae4d-d6f3c9f13fb7",
   "metadata": {},
   "outputs": [],
   "source": [
    "result = subprocess([\"ls\", \"this_fil_does_not_exists\"])"
   ]
  },
  {
   "cell_type": "code",
   "execution_count": null,
   "id": "0570a757-31af-4a77-91a2-b659927f91b4",
   "metadata": {},
   "outputs": [],
   "source": [
    "print(result.returncode) # returnCode"
   ]
  },
  {
   "cell_type": "markdown",
   "id": "1b2076ab-2927-42c9-b5ce-a9ac89e47352",
   "metadata": {},
   "source": [
    "### Advance Subprocess Management"
   ]
  },
  {
   "cell_type": "code",
   "execution_count": null,
   "id": "82a6dc5b-7fad-44cd-8d41-298893c4d1a7",
   "metadata": {},
   "outputs": [],
   "source": [
    "import os\n",
    "import subprocess\n",
    "\n",
    "my_env = os.environ.copy() # Create a new dictionary without changing the current envs\n",
    "my_env[\"PATH\"] = os.pathsep.join([\"/opt/myapp/\", my_env[\"PATH\"]]) # Adding one extra directory to the path variable.\n",
    "#Remember: The path variable indicates where the operating system will look for the executable programs\n",
    "\n",
    "result = subprocess.run([\"myapp\"], env=my_env)"
   ]
  },
  {
   "cell_type": "markdown",
   "id": "7ce820b1-7f66-42a0-8c06-cc549183de0f",
   "metadata": {},
   "source": [
    "#### _If we're automating a one-off, well-defined task where developing a solution quickly is the biggest requirement, then using system commands and subprocess can help a lot._"
   ]
  },
  {
   "cell_type": "markdown",
   "id": "f8b1777c-8081-4d8f-b5b1-6fc64e408f48",
   "metadata": {},
   "source": [
    "## Processing Log Files\n",
    "### Filtering Log Files with Regular Expressions"
   ]
  },
  {
   "cell_type": "raw",
   "id": "2ec9ab6d-43ae-4975-b8d1-07079dcf37de",
   "metadata": {},
   "source": [
    "user@ubuntu: $ cat syslog\r",
    "Jul 6 14:01:23 computer.name CRON[29140]: USER (good_user)\n",
    "Jul 6 14:01:23 computer.name jam_tag=psim[21189]: (UUID:006)\n",
    "Jul 6 14:01:23 computer.name CRON[29440]: USER (good_user)\n",
    "Jul 6 14:01:23 computer.name jam_tag=psim[200887]: (UUID:006)\n",
    "Jul 6 14:01:23 computer.name jam_tag=psim[292381]: (UUID:006)\n",
    "Jul 6 14:01:23 computer.name CRON[22340]: USER (naughty_user)\n",
    "Jul 6 14:01:23 computer.name CRON[29750]: USER (naughty_user) rsvp-udp\r\n",
    "03/22 08:51:06 TRACE  :..entity_initialize: interface 9.67.117.98, entity for rsvp allocated and \r\n",
    "initialized"
   ]
  },
  {
   "cell_type": "code",
   "execution_count": null,
   "id": "fa131b2c-d468-45eb-bc26-43949f2f10a4",
   "metadata": {
    "scrolled": true
   },
   "outputs": [],
   "source": [
    "#!/usr/bin/env python3\n",
    "\n",
    "#check_cron.py\n",
    "import re\n",
    "import sys\n",
    "\n",
    "logfile = sys.args[1]\n",
    "with open(logfile) as f:\n",
    "    for line in f:\n",
    "        if \"CRON\" not in line:\n",
    "            continue\n",
    "        pattern = r\"USER \\((\\w+)\\)$\"\n",
    "        result = re.search(pattern, line)\n",
    "        print(result[1])"
   ]
  },
  {
   "cell_type": "raw",
   "id": "018eef2d-509e-4905-8fc8-34fba42116c1",
   "metadata": {},
   "source": [
    "user@ubuntu: $ ./check_cron.py syslog\n",
    "good_user\n",
    "good_user\n",
    "naughty_user\n",
    "naughty_user\n",
    "user@ubuntu: $ "
   ]
  },
  {
   "cell_type": "markdown",
   "id": "1de239db-e1a9-4878-980b-64f0ea621373",
   "metadata": {},
   "source": [
    "#### Making Sense out of the data"
   ]
  },
  {
   "cell_type": "code",
   "execution_count": null,
   "id": "6940b7bb-e1a5-4003-aa5e-258c0b4a0938",
   "metadata": {},
   "outputs": [],
   "source": [
    "#!/usr/bin/env python3\n",
    "\n",
    "#check_cron.py\n",
    "#To calculate how many times which user run CRON Jobs\n",
    "import re\n",
    "import sys\n",
    "\n",
    "logfile = sys.args[1]\n",
    "usernames = {}   # Define a empty dictionary\n",
    "with open(logfile) as f:\n",
    "    for line in f:\n",
    "        if \"CRON\" not in line:\n",
    "            continue\n",
    "        pattern = r\"USER \\((\\w+)\\)$\"\n",
    "        result = re.search(pattern, line)\n",
    "        if result is None:\n",
    "            continue\n",
    "        name = result[1]\n",
    "        usernames[name] = usernames.get(name, 0) + 1 # set default to 0 and if increase by 1\n",
    "\n",
    "print(usernames)\n",
    "\n",
    "# {'good_user': 1, 'naughty_user': 3}"
   ]
  },
  {
   "cell_type": "markdown",
   "id": "a4f15bb0-780b-49b1-be54-a92a36072eba",
   "metadata": {},
   "source": [
    "# End"
   ]
  }
 ],
 "metadata": {
  "kernelspec": {
   "display_name": "Python 3 (ipykernel)",
   "language": "python",
   "name": "python3"
  },
  "language_info": {
   "codemirror_mode": {
    "name": "ipython",
    "version": 3
   },
   "file_extension": ".py",
   "mimetype": "text/x-python",
   "name": "python",
   "nbconvert_exporter": "python",
   "pygments_lexer": "ipython3",
   "version": "3.11.2"
  }
 },
 "nbformat": 4,
 "nbformat_minor": 5
}
