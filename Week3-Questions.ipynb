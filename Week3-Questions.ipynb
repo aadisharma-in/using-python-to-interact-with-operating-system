{
 "cells": [
  {
   "cell_type": "markdown",
   "id": "9ff71a5c-022b-4d48-a134-4b9d5e3e9ef1",
   "metadata": {},
   "source": [
    "`Q1` The repeating_letter_a function checks if the text passed includes the letter \"a\" (lowercase or uppercase) at least twice. For example, repeating_letter_a(\"banana\" is True, while repeating_letter_a(\"pineapple\") is False. Fill in the code to make this work."
   ]
  },
  {
   "cell_type": "code",
   "execution_count": 5,
   "id": "4e3af42f-344b-4c7c-831c-37aa84b072a9",
   "metadata": {},
   "outputs": [
    {
     "name": "stdout",
     "output_type": "stream",
     "text": [
      "True\n",
      "False\n",
      "True\n",
      "True\n"
     ]
    }
   ],
   "source": [
    "import re\n",
    "def repeating_letter_a(text):\n",
    "    result = re.search(r\".*[aA].*[aA].*\", text)\n",
    "    return result != None\n",
    "\n",
    "print(repeating_letter_a(\"banana\")) # True\n",
    "print(repeating_letter_a(\"pineapple\")) # False\n",
    "print(repeating_letter_a(\"Animal Kingdom\")) # True\n",
    "print(repeating_letter_a(\"A is a apple\")) # True"
   ]
  },
  {
   "cell_type": "markdown",
   "id": "4c5e6374-c139-45fe-b535-666b0ffe5593",
   "metadata": {},
   "source": [
    "---"
   ]
  },
  {
   "cell_type": "code",
   "execution_count": 12,
   "id": "caf5ab92-f3df-4cfa-a35a-f4a692585c08",
   "metadata": {},
   "outputs": [
    {
     "name": "stdout",
     "output_type": "stream",
     "text": [
      "True\n",
      "False\n",
      "True\n",
      "False\n",
      "True\n"
     ]
    }
   ],
   "source": [
    "import re\n",
    "def check_web_address(text):\n",
    "    pattern = r\"^[a-zA-Z][a-zA-Z0-9_\\-\\.]*$\"\n",
    "    result = re.search(pattern, text)\n",
    "    return result is not None\n",
    "\n",
    "print(check_web_address(\"gmail.com\")) # True\n",
    "print(check_web_address(\"www@gmail.com\")) # False\n",
    "print(check_web_address(\"www.Coursera.org\")) # True\n",
    "print(check_web_address(\"web-address.com/homepage\")) # False\n",
    "print(check_web_address(\"My_Favorite-Blog.US\")) # True"
   ]
  },
  {
   "cell_type": "markdown",
   "id": "a15401f4-a1ba-4d64-af12-9b1ce0a305fc",
   "metadata": {},
   "source": [
    "---"
   ]
  },
  {
   "cell_type": "code",
   "execution_count": 22,
   "id": "abb9cb2d-29c2-453c-b897-a4e7c9375447",
   "metadata": {},
   "outputs": [
    {
     "name": "stdout",
     "output_type": "stream",
     "text": [
      "True\n",
      "True\n",
      "False\n",
      "False\n"
     ]
    }
   ],
   "source": [
    "def check_time(text):\n",
    "    pattern = r\"([0-1]?[0-9]|2[0-3]):[0-5][0-9]\\s*[aApP][mM]\"\n",
    "    result = re.search(pattern, text)\n",
    "    return result is not None\n",
    "\n",
    "print(check_time(\"12:45pm\")) # True\n",
    "print(check_time(\"9:59 AM\")) # True\n",
    "print(check_time(\"6:60pm\")) # False\n",
    "print(check_time(\"five o' clock\")) # False"
   ]
  },
  {
   "cell_type": "markdown",
   "id": "c3e9dd9c-ae3d-4b3f-95aa-e84cd1c449fe",
   "metadata": {},
   "source": [
    "---"
   ]
  },
  {
   "cell_type": "code",
   "execution_count": 28,
   "id": "83ef8cef-55ea-47e9-91d5-d8643ce8228e",
   "metadata": {},
   "outputs": [
    {
     "name": "stdout",
     "output_type": "stream",
     "text": [
      "True\n",
      "True\n",
      "False\n",
      "True\n",
      "True\n"
     ]
    }
   ],
   "source": [
    "def contains_acronym(text):\n",
    "    pattern = r\"\\([A-Z0-9][a-zA-Z0-9]*\"\n",
    "    result = re.search(pattern, text)\n",
    "    return result is not None\n",
    "\n",
    "print(contains_acronym(\"Instant messanging (IM) is a set of communication technologies used for text-based communication\")) # True\n",
    "print(contains_acronym(\"American Standard Code for Information Interchange(ASCII) is a character encoding standard for electronic communication\"))  # True\n",
    "print(contains_acronym(\"Please do NOT enter without permission!\"))  # False\n",
    "print(contains_acronym(\"PostScript is a fourth-generation programming language (4GL)\")) # True\n",
    "print(contains_acronym(\"Have fun using a self-contained underwater breating apparatus (Scuba)!\")) # True"
   ]
  },
  {
   "cell_type": "markdown",
   "id": "834b7d6e-1c8a-4acb-b1b4-d32372efd8c7",
   "metadata": {},
   "source": [
    "---\n",
    "## Advance test - Regex\n",
    "#### `Q1.` \n",
    "We're working with a CSV file, which contains employee information. Each record has a name field, followed by a phone number field, and a role field. The phone number field contains U.S. phone numbers, and needs to be modified to the international format, with \"+1-\" in front of the phone number. Fill in the regular expression, using groups, to use the transform_record function to do that."
   ]
  },
  {
   "cell_type": "code",
   "execution_count": 2,
   "id": "54285b9e-873f-45a9-9f86-60438aca413a",
   "metadata": {},
   "outputs": [
    {
     "name": "stdout",
     "output_type": "stream",
     "text": [
      "Sabrina Green,+1-802-867-5309,System Administrator\n",
      "Eli Jones,684-3481127,IT specialist\n",
      "Melody Daniels,+1-846-687-7436,Programmer\n",
      "Charlie Rivera,+1-698-746-3357,Web Developer\n"
     ]
    }
   ],
   "source": [
    "import re\n",
    "def transform_record(record):\n",
    "  new_record = re.sub(r\"\\d{3}-\\d{3}-\\d{4}\", r'+1-\\g<0>', record)\n",
    "  return new_record\n",
    "\n",
    "print(transform_record(\"Sabrina Green,802-867-5309,System Administrator\")) \n",
    "# Sabrina Green,+1-802-867-5309,System Administrator\n",
    "\n",
    "print(transform_record(\"Eli Jones,684-3481127,IT specialist\")) \n",
    "# Eli Jones,+1-684-3481127,IT specialist\n",
    "\n",
    "print(transform_record(\"Melody Daniels,846-687-7436,Programmer\")) \n",
    "# Melody Daniels,+1-846-687-7436,Programmer\n",
    "\n",
    "print(transform_record(\"Charlie Rivera,698-746-3357,Web Developer\")) \n",
    "# Charlie Rivera,+1-698-746-3357,Web Developer"
   ]
  },
  {
   "cell_type": "markdown",
   "id": "08e2b33b-96d4-41e2-947b-e717d99a9c84",
   "metadata": {},
   "source": [
    "#### `Q2.`\n",
    "The multi_vowel_words function returns all words with 3 or more consecutive vowels (a, e, i, o, u). Fill in the regular expression to do that."
   ]
  },
  {
   "cell_type": "code",
   "execution_count": 1,
   "id": "c0d3659d-b58d-4c77-aed0-03c7afb46b8c",
   "metadata": {},
   "outputs": [
    {
     "name": "stdout",
     "output_type": "stream",
     "text": [
      "['beautiful']\n",
      "['Obviously', 'queen', 'courageous', 'gracious']\n",
      "['rambunctious', 'quietly', 'await', 'their', 'delicious']\n",
      "['queue', 'Out']\n",
      "[]\n"
     ]
    }
   ],
   "source": [
    "import re\n",
    "def multi_vowel_words(text):\n",
    "  pattern = r'\\w*[aeiouAEIOU]{2,}\\w*'\n",
    "  result = re.findall(pattern, text)\n",
    "  return result\n",
    "\n",
    "print(multi_vowel_words(\"Life is beautiful\")) \n",
    "# ['beautiful']\n",
    "\n",
    "print(multi_vowel_words(\"Obviously, the queen is courageous and gracious.\")) \n",
    "# ['Obviously', 'queen', 'courageous', 'gracious']\n",
    "\n",
    "print(multi_vowel_words(\"The rambunctious children had to sit quietly and await their delicious dinner.\")) \n",
    "# ['rambunctious', 'quietly', 'delicious']\n",
    "\n",
    "print(multi_vowel_words(\"The order of a data queue is First In First Out (FIFO)\")) \n",
    "# ['queue']\n",
    "\n",
    "print(multi_vowel_words(\"Hello world!\")) \n",
    "# []"
   ]
  },
  {
   "cell_type": "markdown",
   "id": "07a68a23-5dd1-4414-936b-abcdcb212ebd",
   "metadata": {},
   "source": [
    "#### `Q3.`\n",
    "When capturing regex groups, what datatype does the groups method return?\n",
    "- A String\n",
    "- A Tuple\n",
    "- A List\n",
    "- A Float"
   ]
  },
  {
   "cell_type": "markdown",
   "id": "1d585305-106e-465d-9a20-6d63f09442cb",
   "metadata": {},
   "source": [
    "#### `Q4.`\n",
    "The transform_comments function converts comments in a Python script into those usable by a C compiler. This means looking for text that begins with a hash mark (#) and replacing it with double slashes (//), which is the C single-line comment indicator. For the purpose of this exercise, we'll ignore the possibility of a hash mark embedded inside of a Python command, and assume that it's only used to indicate a comment. We also want to treat repetitive hash marks (##), (###), etc., as a single comment indicator, to be replaced with just (//) and not (#//) or (//#). Fill in the parameters of the substitution method to complete this function: "
   ]
  },
  {
   "cell_type": "code",
   "execution_count": 3,
   "id": "3711f80a-fb28-42c0-8b1e-bf9c5c7b75c6",
   "metadata": {},
   "outputs": [
    {
     "name": "stdout",
     "output_type": "stream",
     "text": [
      "// Start of program\n",
      "  number = 0   // Initialize the variable\n",
      "  number += 1   // Increment the variable\n",
      "  return(number)\n"
     ]
    }
   ],
   "source": [
    "import re\n",
    "def transform_comments(line_of_code):\n",
    "  result = re.sub(r\"\\#{1,3}\", \"//\", line_of_code)\n",
    "  return result\n",
    "\n",
    "print(transform_comments(\"### Start of program\")) \n",
    "# Should be \"// Start of program\"\n",
    "print(transform_comments(\"  number = 0   ## Initialize the variable\")) \n",
    "# Should be \"  number = 0   // Initialize the variable\"\n",
    "print(transform_comments(\"  number += 1   # Increment the variable\")) \n",
    "# Should be \"  number += 1   // Increment the variable\"\n",
    "print(transform_comments(\"  return(number)\")) \n",
    "# Should be \"  return(number)\""
   ]
  },
  {
   "cell_type": "markdown",
   "id": "17de3653-233c-406d-8287-f7395d7c3a20",
   "metadata": {},
   "source": [
    "#### `Q5.`\n",
    "The convert_phone_number function checks for a U.S. phone number format: XXX-XXX-XXXX (3 digits followed by a dash, 3 more digits followed by a dash, and 4 digits), and converts it to a more formal format that looks like this: (XXX) XXX-XXXX. Fill in the regular expression to complete this function."
   ]
  },
  {
   "cell_type": "code",
   "execution_count": 4,
   "id": "16163c8c-9417-4438-a5c7-55335f3db3c0",
   "metadata": {},
   "outputs": [
    {
     "name": "stdout",
     "output_type": "stream",
     "text": [
      "<re.Match object; span=(13, 25), match='212-345-9999'>\n",
      "<re.Match object; span=(12, 24), match='888-555-1234'>\n",
      "None\n",
      "None\n"
     ]
    }
   ],
   "source": [
    "import re\n",
    "def convert_phone_number(phone):\n",
    "  result = re.search(r\"(\\d{3})-(\\d{3})-(\\d{4})\\b\", phone)\n",
    "  return result\n",
    "\n",
    "print(convert_phone_number(\"My number is 212-345-9999.\")) # My number is (212) 345-9999.\n",
    "print(convert_phone_number(\"Please call 888-555-1234\")) # Please call (888) 555-1234\n",
    "print(convert_phone_number(\"123-123-12345\")) # 123-123-12345\n",
    "print(convert_phone_number(\"Phone number of Buckingham Palace is +44 303 123 7300\")) # Phone number of Buckingham Palace is +44 303 123 7300"
   ]
  },
  {
   "cell_type": "code",
   "execution_count": null,
   "id": "5f1cb91f-8340-4270-9d1d-8a16b30b92c6",
   "metadata": {},
   "outputs": [],
   "source": []
  }
 ],
 "metadata": {
  "kernelspec": {
   "display_name": "Python 3 (ipykernel)",
   "language": "python",
   "name": "python3"
  },
  "language_info": {
   "codemirror_mode": {
    "name": "ipython",
    "version": 3
   },
   "file_extension": ".py",
   "mimetype": "text/x-python",
   "name": "python",
   "nbconvert_exporter": "python",
   "pygments_lexer": "ipython3",
   "version": "3.11.2"
  }
 },
 "nbformat": 4,
 "nbformat_minor": 5
}
