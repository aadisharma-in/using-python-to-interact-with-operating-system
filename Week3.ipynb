{
 "cells": [
  {
   "cell_type": "markdown",
   "id": "d611429d-38f0-4916-9d00-37df2e9b2ab8",
   "metadata": {},
   "source": [
    "### Regular Expressions"
   ]
  },
  {
   "cell_type": "markdown",
   "id": "b7b44196-9116-47b8-a085-2797bcbd2eb8",
   "metadata": {},
   "source": [
    "- Allow us to search a text for strings matching a specific pattern\n"
   ]
  },
  {
   "cell_type": "code",
   "execution_count": 1,
   "id": "41e115e8-ff28-43e4-927a-bbad0d8156a1",
   "metadata": {},
   "outputs": [
    {
     "name": "stdout",
     "output_type": "stream",
     "text": [
      "<re.Match object; span=(2, 5), match='aza'>\n"
     ]
    }
   ],
   "source": [
    "import re\n",
    "result = re.search(r\"aza\", \"plaza\")\n",
    "print(result)"
   ]
  },
  {
   "cell_type": "code",
   "execution_count": 2,
   "id": "b36f8495-a3df-4d1e-99e9-9823e6450568",
   "metadata": {},
   "outputs": [
    {
     "name": "stdout",
     "output_type": "stream",
     "text": [
      "<re.Match object; span=(1, 4), match='aza'>\n"
     ]
    }
   ],
   "source": [
    "result = re.search(r\"aza\", \"bazar\")\n",
    "print(result)"
   ]
  },
  {
   "cell_type": "code",
   "execution_count": 3,
   "id": "57790efe-ad94-4abe-b89a-3f0e448c4072",
   "metadata": {},
   "outputs": [
    {
     "name": "stdout",
     "output_type": "stream",
     "text": [
      "None\n"
     ]
    }
   ],
   "source": [
    "result = re.search(r\"aza\", \"maze\")\n",
    "print(result)"
   ]
  },
  {
   "cell_type": "code",
   "execution_count": 4,
   "id": "5fd50405-8aa3-4102-9530-bffc19d6e7b2",
   "metadata": {},
   "outputs": [
    {
     "name": "stdout",
     "output_type": "stream",
     "text": [
      "<re.Match object; span=(1, 5), match='pong'>\n"
     ]
    }
   ],
   "source": [
    "print(re.search(r\"p.ng\", \"sponge\"))"
   ]
  },
  {
   "cell_type": "code",
   "execution_count": 5,
   "id": "caab147b-43f9-4a4b-980a-e3862f63825e",
   "metadata": {},
   "outputs": [
    {
     "name": "stdout",
     "output_type": "stream",
     "text": [
      "<re.Match object; span=(0, 4), match='ping'>\n"
     ]
    }
   ],
   "source": [
    "print(re.search(r\"p.ng\", \"ping\"))"
   ]
  },
  {
   "cell_type": "code",
   "execution_count": 6,
   "id": "186cab86-3f32-4903-b02a-02181647c38e",
   "metadata": {},
   "outputs": [
    {
     "name": "stdout",
     "output_type": "stream",
     "text": [
      "<re.Match object; span=(0, 4), match='Pang'>\n"
     ]
    }
   ],
   "source": [
    "print(re.search(r\"p.ng\", \"Pangaea\", re.IGNORECASE)) #Ignore the uppercase/lowercase"
   ]
  },
  {
   "cell_type": "code",
   "execution_count": 7,
   "id": "7151406f-b97c-45f0-8c21-320fb2b95ce7",
   "metadata": {},
   "outputs": [
    {
     "name": "stdout",
     "output_type": "stream",
     "text": [
      "<re.Match object; span=(0, 6), match='python'>\n"
     ]
    }
   ],
   "source": [
    "#Wildcard Character\n",
    "print(re.search(r\"[pP]ython\", \"python\"))"
   ]
  },
  {
   "cell_type": "code",
   "execution_count": 8,
   "id": "a17a6c2c-4f39-48aa-8f85-45bb28aed0e1",
   "metadata": {},
   "outputs": [
    {
     "name": "stdout",
     "output_type": "stream",
     "text": [
      "<re.Match object; span=(18, 22), match='hway'>\n"
     ]
    }
   ],
   "source": [
    "print(re.search(r\"[a-z]way\", \"The end of the highway\"))"
   ]
  },
  {
   "cell_type": "code",
   "execution_count": 9,
   "id": "826712d3-8f66-491b-9251-5539a17b99fb",
   "metadata": {},
   "outputs": [
    {
     "name": "stdout",
     "output_type": "stream",
     "text": [
      "<re.Match object; span=(5, 6), match='9'>\n"
     ]
    }
   ],
   "source": [
    "#[0-9], [a-z], [uU], [a-zA-Z0-9]\n",
    "print(re.search(r\"[a-zA-Z0-9]$\", \"cloud9\"))"
   ]
  },
  {
   "cell_type": "code",
   "execution_count": 10,
   "id": "a5955ad1-9afd-4ab3-80b5-4e3ab88c5ad4",
   "metadata": {},
   "outputs": [
    {
     "name": "stdout",
     "output_type": "stream",
     "text": [
      "<re.Match object; span=(4, 5), match=' '>\n"
     ]
    }
   ],
   "source": [
    "print(re.search(r\"[^a-zA-Z]\", \"This is a sentence with spaces.\"))\n",
    "#Here this ^ character will match not a-zA-Z"
   ]
  },
  {
   "cell_type": "code",
   "execution_count": 11,
   "id": "667a2a84-dbe9-44ce-8a68-ff48357b3a5b",
   "metadata": {},
   "outputs": [
    {
     "name": "stdout",
     "output_type": "stream",
     "text": [
      "<re.Match object; span=(30, 31), match='.'>\n"
     ]
    }
   ],
   "source": [
    "print(re.search(r\"[^a-zA-Z ]\", \"This is a sentence with spaces.\")) \n",
    "#Here we add a space( ) in the expressin so it does not match the space because of ^ character"
   ]
  },
  {
   "cell_type": "code",
   "execution_count": 12,
   "id": "5e36d497-0461-44e5-b076-4446326b54b2",
   "metadata": {},
   "outputs": [
    {
     "name": "stdout",
     "output_type": "stream",
     "text": [
      "<re.Match object; span=(7, 10), match='cat'>\n"
     ]
    }
   ],
   "source": [
    "print(re.search(r\"cat|dog\", \"I like cats\")) \n",
    "# Here the pipe(|) character will match cat `or` dog"
   ]
  },
  {
   "cell_type": "code",
   "execution_count": 13,
   "id": "1b7453e7-f827-4461-8f60-ea880e1b55f9",
   "metadata": {},
   "outputs": [
    {
     "name": "stdout",
     "output_type": "stream",
     "text": [
      "['cat', 'dog']\n"
     ]
    }
   ],
   "source": [
    "print(re.findall(r\"cat|dog\", \"I love cats and dogs.\")) \n",
    "#find all will find all the matched cases. return [array]"
   ]
  },
  {
   "cell_type": "markdown",
   "id": "338ff1ce-33ab-4e58-a0fb-4bd71aa26de7",
   "metadata": {},
   "source": [
    "###### `.*` This means it will match any character repeated as many times as possible including zero(0)"
   ]
  },
  {
   "cell_type": "code",
   "execution_count": 14,
   "id": "3156cc67-9eb1-4ba4-8f66-91f30f15d60f",
   "metadata": {},
   "outputs": [
    {
     "name": "stdout",
     "output_type": "stream",
     "text": [
      "<re.Match object; span=(0, 9), match='Pygmalion'>\n"
     ]
    }
   ],
   "source": [
    "print(re.search(r\"Py.*n\", \"Pygmalion\"))"
   ]
  },
  {
   "cell_type": "code",
   "execution_count": 15,
   "id": "c3a6b06a-ada1-43d7-8783-5b8a4b84fc52",
   "metadata": {},
   "outputs": [
    {
     "name": "stdout",
     "output_type": "stream",
     "text": [
      "<re.Match object; span=(0, 17), match='Python Programmin'>\n",
      "<re.Match object; span=(0, 6), match='Python'>\n",
      "<re.Match object; span=(0, 3), match='Pyn'>\n"
     ]
    }
   ],
   "source": [
    "print(re.search(r\"Py.*n\", \"Python Programming\")) \n",
    "# Because It will take as many characters as possible\n",
    "print(re.search(r\"Py[a-z]*n\", \"Python Programming\")) \n",
    "# This will take only a word\n",
    "print(re.search(r\"Py[a-z]*n\", \"Pyn\")) \n",
    "# This poves that it also matches 0 characters"
   ]
  },
  {
   "cell_type": "markdown",
   "id": "4e879e8d-92cb-4839-b3d7-ad39f8ce4475",
   "metadata": {},
   "source": [
    "##### The `Plus( + )` character matches one or more occurences of the character that comers before it."
   ]
  },
  {
   "cell_type": "code",
   "execution_count": 16,
   "id": "000b3d36-af6d-4856-8654-f97c2e22abe5",
   "metadata": {},
   "outputs": [
    {
     "name": "stdout",
     "output_type": "stream",
     "text": [
      "<re.Match object; span=(1, 3), match='ol'>\n"
     ]
    }
   ],
   "source": [
    "#Examples\n",
    "print(re.search(r\"o+l+\", \"goldfish\"))"
   ]
  },
  {
   "cell_type": "code",
   "execution_count": 17,
   "id": "27475024-4ccb-45dc-a930-bfc934274ba4",
   "metadata": {},
   "outputs": [
    {
     "name": "stdout",
     "output_type": "stream",
     "text": [
      "<re.Match object; span=(1, 5), match='ooll'>\n"
     ]
    }
   ],
   "source": [
    "print(re.search(r\"o+l+\", \"woolly\"))"
   ]
  },
  {
   "cell_type": "code",
   "execution_count": 18,
   "id": "7124c2d5-2586-44a3-8318-6b49f5259ab0",
   "metadata": {},
   "outputs": [
    {
     "name": "stdout",
     "output_type": "stream",
     "text": [
      "None\n"
     ]
    }
   ],
   "source": [
    "print(re.search(r\"o+l+\", \"boil\"))"
   ]
  },
  {
   "cell_type": "markdown",
   "id": "27366d75-ff10-4d09-8ae5-5f6314935cd1",
   "metadata": {},
   "source": [
    "##### The `Question Mark( ? )` character will make the character optional comes before it"
   ]
  },
  {
   "cell_type": "code",
   "execution_count": 19,
   "id": "432e49cd-bab9-4735-b4a3-7b74d725842b",
   "metadata": {},
   "outputs": [
    {
     "name": "stdout",
     "output_type": "stream",
     "text": [
      "<re.Match object; span=(3, 7), match='each'>\n"
     ]
    }
   ],
   "source": [
    "print(re.search(r\"p?each\", \"To each their own\"))"
   ]
  },
  {
   "cell_type": "code",
   "execution_count": 20,
   "id": "1dc8bad9-2359-4ec9-9413-dd576a3f6a49",
   "metadata": {},
   "outputs": [
    {
     "name": "stdout",
     "output_type": "stream",
     "text": [
      "<re.Match object; span=(7, 12), match='peach'>\n"
     ]
    }
   ],
   "source": [
    "print(re.search(r\"p?each\", \"I like peaches\"))"
   ]
  },
  {
   "cell_type": "code",
   "execution_count": 21,
   "id": "caa307fc-de76-4736-a5c3-fa8a13508a36",
   "metadata": {},
   "outputs": [
    {
     "name": "stdout",
     "output_type": "stream",
     "text": [
      "<re.Match object; span=(0, 29), match='_this_is_a_vald_variable_name'>\n",
      "None\n",
      "None\n"
     ]
    }
   ],
   "source": [
    "pattern = r\"^[a-zA-Z_][a-zA-Z0-9_]*$\"\n",
    "print(re.search(pattern, \"_this_is_a_vald_variable_name\"))\n",
    "print(re.search(pattern, \"this isn't a valid variable\"))\n",
    "print(re.search(pattern, \"9_not_valid_variable\"))"
   ]
  },
  {
   "cell_type": "markdown",
   "id": "1040432b-25ba-488b-81c6-0187bacf23e6",
   "metadata": {},
   "source": [
    "#### Capturing groups\n",
    "##### Portions of the pattern that are enclosed in parentheses"
   ]
  },
  {
   "cell_type": "markdown",
   "id": "3a7deedf-7847-4b0b-b63c-591ce29b5566",
   "metadata": {},
   "source": [
    "#### `\\w` matches any letter"
   ]
  },
  {
   "cell_type": "code",
   "execution_count": 22,
   "id": "1f41451b-f9af-404d-9dba-d4086aed56d3",
   "metadata": {},
   "outputs": [
    {
     "name": "stdout",
     "output_type": "stream",
     "text": [
      "<re.Match object; span=(0, 13), match='Lovelace, Ada'>\n"
     ]
    }
   ],
   "source": [
    "result = re.search(r\"^(\\w*), (\\w*)$\", \"Lovelace, Ada\")\n",
    "print(result)"
   ]
  },
  {
   "cell_type": "code",
   "execution_count": 23,
   "id": "bbca27d7-30fb-4d62-a576-19dd1b670e6f",
   "metadata": {},
   "outputs": [
    {
     "name": "stdout",
     "output_type": "stream",
     "text": [
      "('Lovelace', 'Ada')\n",
      "Lovelace, Ada\n",
      "Lovelace\n",
      "Ada\n"
     ]
    }
   ],
   "source": [
    "print(result.groups())\n",
    "print(result[0])\n",
    "print(result[1])\n",
    "print(result[2])"
   ]
  },
  {
   "cell_type": "code",
   "execution_count": 24,
   "id": "4f5feafa-b9ba-467f-92b6-f789d98d442e",
   "metadata": {},
   "outputs": [
    {
     "name": "stdout",
     "output_type": "stream",
     "text": [
      "Ada Lovelace\n",
      "Dennis Ritchie\n",
      "Dennis M. Ritchie\n"
     ]
    }
   ],
   "source": [
    "def rearrange_name(name):\n",
    "    result = re.search(r\"^(\\w*), (.*)$\", name)\n",
    "    if result is None:\n",
    "        return name\n",
    "    else:\n",
    "        return f\"{result[2]} {result[1]}\"\n",
    "\n",
    "print(rearrange_name(\"Lovelace, Ada\"))\n",
    "print(rearrange_name(\"Ritchie, Dennis\"))\n",
    "print(rearrange_name(\"Ritchie, Dennis M.\"))"
   ]
  },
  {
   "cell_type": "markdown",
   "id": "3116a7cc-385d-4580-b4bf-9b098f3f3c7a",
   "metadata": {},
   "source": [
    "#### `{n}` will match n no of words match"
   ]
  },
  {
   "cell_type": "code",
   "execution_count": 25,
   "id": "87ac7de3-7bb1-4b44-83db-1205ef8ac459",
   "metadata": {},
   "outputs": [
    {
     "name": "stdout",
     "output_type": "stream",
     "text": [
      "<re.Match object; span=(2, 7), match='scary'>\n",
      "['scary', 'ghost', 'appea']\n"
     ]
    }
   ],
   "source": [
    "# Example\n",
    "print(re.search(r\"[a-zA-Z]{5}\", \"a scary ghost appeared\"))\n",
    "\n",
    "#find all\n",
    "print(re.findall(r\"[a-zA-Z]{5}\", \"a scary ghost appeared\"))"
   ]
  },
  {
   "cell_type": "markdown",
   "id": "450ccbea-d3fc-44fd-81f5-ce5f12a5ccfe",
   "metadata": {},
   "source": [
    "#### `\\b` matches word limits at the begining and end of pattern"
   ]
  },
  {
   "cell_type": "code",
   "execution_count": 26,
   "id": "e8c001b8-e892-42f0-8c4f-36c32a700c80",
   "metadata": {},
   "outputs": [
    {
     "name": "stdout",
     "output_type": "stream",
     "text": [
      "['scary', 'ghost']\n"
     ]
    }
   ],
   "source": [
    "# Example\n",
    "print(re.findall(r\"\\b[a-zA-Z]{5}\\b\", \"a scary ghost appeared\"))"
   ]
  },
  {
   "cell_type": "markdown",
   "id": "5faae93a-9622-44eb-902f-01d9a8bfede8",
   "metadata": {},
   "source": [
    "#### `{n1, n2}` By these we can set range of our match"
   ]
  },
  {
   "cell_type": "code",
   "execution_count": 27,
   "id": "17952ca8-e103-4b48-bfe3-240083c490a0",
   "metadata": {},
   "outputs": [
    {
     "name": "stdout",
     "output_type": "stream",
     "text": [
      "['really', 'straberrie']\n"
     ]
    }
   ],
   "source": [
    "# Example\n",
    "print(re.findall(r\"\\w{5,10}\", \"I really like straberries\"))"
   ]
  },
  {
   "cell_type": "code",
   "execution_count": 28,
   "id": "a659e8fa-0e36-4b4b-a9ed-738557ad3cfe",
   "metadata": {},
   "outputs": [
    {
     "name": "stdout",
     "output_type": "stream",
     "text": [
      "['really', 'straberries']\n",
      "['straberrires']\n"
     ]
    }
   ],
   "source": [
    "print(re.findall(r\"\\w{5,}\", \"I really like straberries\")) \n",
    "# This will take 5 to max number of works mathes #run it\n",
    "\n",
    "print(re.findall(r\"s\\w{,20}\", \"I really like straberrires\")) \n",
    "# Starting from s followed by up to 20 alphanumeric characters"
   ]
  },
  {
   "cell_type": "markdown",
   "id": "27e503b8-4803-4bc8-8e0f-f870939d63b4",
   "metadata": {},
   "source": [
    "#### Extracting a PID Using regexes in Python"
   ]
  },
  {
   "cell_type": "markdown",
   "id": "16346c78-8a7d-45b7-b72f-74080ad0931a",
   "metadata": {},
   "source": [
    "#### `\\d` match one or more numeric characters"
   ]
  },
  {
   "cell_type": "code",
   "execution_count": 61,
   "id": "46964639-41a8-4851-814a-da0586a6aa1b",
   "metadata": {},
   "outputs": [
    {
     "name": "stdout",
     "output_type": "stream",
     "text": [
      "('12345', 'ERROR')\n"
     ]
    }
   ],
   "source": [
    "def extract_pid(log_line):\n",
    "    regex = r\"\\[(\\d+)\\]: ([A-Z]*)\"\n",
    "    result = re.search(regex, log_line)\n",
    "    if result is None:\n",
    "        return \"\"\n",
    "    else:\n",
    "        return result[1], result[2]\n",
    "\n",
    "print(extract_pid(\"July 31 07:51:48 mycomputer bad_process[12345]: ERROR Performing package upgrade\"))"
   ]
  },
  {
   "cell_type": "markdown",
   "id": "c0a816db-79c4-4278-aa68-7c22ab3309ff",
   "metadata": {},
   "source": [
    "## Other important methods \n",
    "#### `re.split()` "
   ]
  },
  {
   "cell_type": "code",
   "execution_count": 62,
   "id": "e97187ed-7a25-4dd2-9d90-f6647051aa96",
   "metadata": {},
   "outputs": [
    {
     "data": {
      "text/plain": [
       "['One sentence', ' Another One', ' And the last one', '']"
      ]
     },
     "execution_count": 62,
     "metadata": {},
     "output_type": "execute_result"
    }
   ],
   "source": [
    "re.split(r\"[.?!]\", \"One sentence. Another One? And the last one!\")"
   ]
  },
  {
   "cell_type": "code",
   "execution_count": 63,
   "id": "c1d55c7b-a66e-4e66-9b7a-7c792d70d409",
   "metadata": {},
   "outputs": [
    {
     "data": {
      "text/plain": [
       "['One sentence', '.', ' Another One', '?', ' And the last one', '!', '']"
      ]
     },
     "execution_count": 63,
     "metadata": {},
     "output_type": "execute_result"
    }
   ],
   "source": [
    "re.split(r\"([.?!])\", \"One sentence. Another One? And the last one!\") \n",
    "# This will give us with notation marks as elements of a list"
   ]
  },
  {
   "cell_type": "markdown",
   "id": "aeccecc1-c95a-4a58-b411-d6446fcc9560",
   "metadata": {},
   "source": [
    "#### `re.sub()`"
   ]
  },
  {
   "cell_type": "code",
   "execution_count": 64,
   "id": "4f14060b-a055-4667-9608-58b39b1dc42f",
   "metadata": {},
   "outputs": [
    {
     "data": {
      "text/plain": [
       "'Recieved an email for [REDACTED]'"
      ]
     },
     "execution_count": 64,
     "metadata": {},
     "output_type": "execute_result"
    }
   ],
   "source": [
    "re.sub(r\"[\\w.%+-]+@[\\w.-]+\", \"[REDACTED]\" , \"Recieved an email for go_nuts95@my.example.com\")"
   ]
  },
  {
   "cell_type": "code",
   "execution_count": 65,
   "id": "bbd7d4d0-21c9-4612-9722-843dfee0c975",
   "metadata": {},
   "outputs": [
    {
     "data": {
      "text/plain": [
       "'Ada Lovelace'"
      ]
     },
     "execution_count": 65,
     "metadata": {},
     "output_type": "execute_result"
    }
   ],
   "source": [
    "re.sub(r\"^([\\w .-]*), ([\\w .-]*)$\", r\"\\2 \\1\", \"Lovelace, Ada\") # Here index are changed\n",
    "#                 Indexe reversed   --^  -^"
   ]
  }
 ],
 "metadata": {
  "kernelspec": {
   "display_name": "Python 3 (ipykernel)",
   "language": "python",
   "name": "python3"
  },
  "language_info": {
   "codemirror_mode": {
    "name": "ipython",
    "version": 3
   },
   "file_extension": ".py",
   "mimetype": "text/x-python",
   "name": "python",
   "nbconvert_exporter": "python",
   "pygments_lexer": "ipython3",
   "version": "3.11.2"
  }
 },
 "nbformat": 4,
 "nbformat_minor": 5
}
